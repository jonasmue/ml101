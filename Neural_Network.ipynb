{
 "cells": [
  {
   "cell_type": "code",
   "execution_count": 1,
   "metadata": {},
   "outputs": [],
   "source": [
    "import os\n",
    "import numpy as np\n",
    "import pandas as pd\n",
    "from sklearn.datasets import make_blobs\n",
    "from sklearn.model_selection import train_test_split\n",
    "from sklearn.feature_extraction.text import CountVectorizer\n",
    "from matplotlib import pyplot as plt\n",
    "from time import time"
   ]
  },
  {
   "cell_type": "markdown",
   "metadata": {},
   "source": [
    "# Neural Networks"
   ]
  },
  {
   "cell_type": "markdown",
   "metadata": {},
   "source": [
    "## Building Blocks\n",
    "\n",
    "1. An **input layer** formed of training examples $\\mathbf{X}$ consisting of $m$ feature vectors $\\mathbf{X}=[\\mathbf{x}^{(1)},\\mathbf{x}^{(2)},\\dots,\\mathbf{x}^{(m)}]$, where each $\\mathbf{x}^{(i)}$ contains $n$ features $[x_1, x_2, \\dots, x_n]^{(i)}$.\n",
    "2. One or more **hidden layer(s)** formed of hidden units each of which takes a weighted sum of the previous layer's units and subsequently applies a non-linearity function $f$ (e.g. ReLU). The weighted sum of the $l$-th layer is performed by matrix multiplication: $\\mathbf{z}^{(l)} = \\mathbf{a}^{(l-1)}\\cdot\\mathbf{W}^{(l)} + \\mathbf{b}^{(l)}$. Subsequently, the non-linearity function is applied $\\mathbf{a}^{(l)}=f(\\mathbf{z}^{(l)})$.\n",
    "3. An **output layer** consisting of one (binary classification) or $C$ output units where $C$ is the number of classes. Each output unit takes the weighted sum of the previous layer's units. Subsequently a normalizing function (sigmoid for binary classification, softmax for multi-class classification) is applied over the output units to obtain the predicted soft labels.\n",
    "4. An **objective function** $L$ for learning (e.g. cross-entropy loss).\n",
    "6. An **optimization algorithm** that optimizes the objective function (e.g. gradient descent)."
   ]
  },
  {
   "cell_type": "markdown",
   "metadata": {},
   "source": [
    "## Binary Classification"
   ]
  },
  {
   "cell_type": "markdown",
   "metadata": {},
   "source": [
    "### Forward Propagation"
   ]
  },
  {
   "cell_type": "markdown",
   "metadata": {},
   "source": [
    "#### Example: Neural Network with One Hidden Layer"
   ]
  },
  {
   "cell_type": "markdown",
   "metadata": {},
   "source": [
    "We subsequently feed our training examples through the network to obtain label predictions:"
   ]
  },
  {
   "cell_type": "markdown",
   "metadata": {},
   "source": [
    "$\\text{Input: } \\mathbf{x}^{(i)}\\in \\mathbb{R}^{n_\\text{features}} \\quad$"
   ]
  },
  {
   "cell_type": "markdown",
   "metadata": {},
   "source": [
    "$\n",
    "    \\mathbf{z}^{(1)} = \\cdot\\mathbf{W}^{(1)}\\mathbf{x}^{(i)} + \\mathbf{b}^{(1)}\\quad\\vert\\quad \\mathbf{W}^{(1)} \\in \\mathbb{R}^{n_\\text{hidden_layer}\\times n_\\text{features}} \\quad \\mathbf{b}^{(1)} \\in \\mathbb{R}^{n_\\text{hidden_layer}}\n",
    "$"
   ]
  },
  {
   "cell_type": "markdown",
   "metadata": {},
   "source": [
    "$\n",
    "\\mathbf{a}^{(1)} = \\text{ReLU}(\\mathbf{z}^{(1)})\\quad\\vert\\quad\\mathbf{z}^{(1)},\\mathbf{a}^{(1)}\\in\\mathbb{R}^{ n_\\text{hidden_layer}}\n",
    "$"
   ]
  },
  {
   "cell_type": "markdown",
   "metadata": {},
   "source": [
    "$\n",
    "z^{(2)} = \\mathbf{a}^{(1)}\\cdot\\mathbf{w}^{(2)} + b^{(2)} \\quad\\vert\\quad \\mathbf{w}^{(2)} \\in \\mathbb{R}^{n_\\text{hidden_layer}} \\quad b^{(2)} \\in \\mathbb{R}\n",
    "$"
   ]
  },
  {
   "cell_type": "markdown",
   "metadata": {},
   "source": [
    "$\n",
    "\\hat{y} = \\sigma(z^{(2)})\\quad\\vert\\quad z^{(2)},\\hat{y}\\in\\mathbb{R} \n",
    "$"
   ]
  },
  {
   "cell_type": "code",
   "execution_count": 2,
   "metadata": {},
   "outputs": [],
   "source": [
    "MAX_EXP = 709\n",
    "\n",
    "def sigmoid(z):\n",
    "    z = np.clip(z, -MAX_EXP, None) # For numerical stability\n",
    "    return 1 / (1 + np.exp(-z))"
   ]
  },
  {
   "cell_type": "code",
   "execution_count": 3,
   "metadata": {},
   "outputs": [],
   "source": [
    "def relu(z):\n",
    "    return z * (z > 0)"
   ]
  },
  {
   "cell_type": "code",
   "execution_count": 4,
   "metadata": {},
   "outputs": [],
   "source": [
    "def relu_prime(z):\n",
    "    return 1.0 * (z > 0)"
   ]
  },
  {
   "cell_type": "markdown",
   "metadata": {},
   "source": [
    "---"
   ]
  },
  {
   "cell_type": "markdown",
   "metadata": {},
   "source": [
    "### Loss Function"
   ]
  },
  {
   "cell_type": "markdown",
   "metadata": {},
   "source": [
    "As described in [Logistic Regression](./Logistic_Regression.ipynb), we can use [binary cross-entropy loss](./Logistic_Regression.ipynb#The-Binary-Cross-Entropy-Loss-Function) for binary classification:"
   ]
  },
  {
   "cell_type": "markdown",
   "metadata": {},
   "source": [
    "$$L_{CE}(\\hat{y},y)=-\\log{p(y\\vert \\mathbf{x})} = -\\big(y\\log{\\hat{y}}+(1-y)\\log{(1-\\hat{y})}\\big)$$"
   ]
  },
  {
   "cell_type": "code",
   "execution_count": 5,
   "metadata": {},
   "outputs": [],
   "source": [
    "EPSILON = 1e-9\n",
    "\n",
    "def ce_loss(y_hat, y):\n",
    "    y_hat = np.clip(y_hat, EPSILON, 1 - EPSILON) # For numerical stability\n",
    "    loss = -(y * np.log(y_hat) + (1 - y) * np.log(1 - y_hat))\n",
    "    return loss"
   ]
  },
  {
   "cell_type": "markdown",
   "metadata": {},
   "source": [
    "---"
   ]
  },
  {
   "cell_type": "markdown",
   "metadata": {},
   "source": [
    "### Backward Propagation: Gradient Descent"
   ]
  },
  {
   "cell_type": "markdown",
   "metadata": {},
   "source": [
    "In order to perform gradient descent, we need to obtain the following partial derivatives:"
   ]
  },
  {
   "cell_type": "markdown",
   "metadata": {},
   "source": [
    "$$\n",
    "\\frac{\\partial L}{\\partial \\mathbf{W}^{(1)}}\\quad \\frac{\\partial L}{\\partial \\mathbf{b}^{(1)}} \\quad \\frac{\\partial L}{\\partial \\mathbf{w}^{(2)}} \\quad \\frac{\\partial L}{\\partial b^{(2)}} \\quad \n",
    "$$"
   ]
  },
  {
   "cell_type": "markdown",
   "metadata": {},
   "source": [
    "#### Derivation"
   ]
  },
  {
   "cell_type": "markdown",
   "metadata": {},
   "source": [
    "Let's derive these by using the chain rule and start with some initial calculations:"
   ]
  },
  {
   "cell_type": "markdown",
   "metadata": {},
   "source": [
    "$$\\frac{\\partial L}{\\partial \\hat{y}} = \\frac{1-y}{1-\\hat{y}} -\\frac{y}{\\hat{y}} = \\frac{\\hat{y}-y}{\\hat{y}-\\hat{y}^2}$$"
   ]
  },
  {
   "cell_type": "markdown",
   "metadata": {},
   "source": [
    "$$\n",
    "\\frac{\\partial \\hat{y}}{\\partial z^{(2)}} = \\sigma'(z^{(2)})=\\sigma(z^{(2)})(1-\\sigma(z^{(2)}))=\\hat{y}(1-\\hat{y})=\\hat{y}-\\hat{y}^2\n",
    "$$"
   ]
  },
  {
   "cell_type": "markdown",
   "metadata": {},
   "source": [
    "Hence, applying the chain rule, we can say that:"
   ]
  },
  {
   "cell_type": "markdown",
   "metadata": {},
   "source": [
    "$$\\delta^{(1)}=\\frac{\\partial L}{\\partial z^{(2)}} = \\frac{\\partial L}{\\partial \\hat{y}} \\frac{\\partial \\hat{y}}{\\partial z^{(2)}}= \\frac{\\hat{y}-y}{\\hat{y}-\\hat{y}^2}(\\hat{y}-\\hat{y}^2) = \\hat{y}-y\\quad\\vert\\quad\\delta^{(1)}\\in \\mathbb{R}\n",
    "$$"
   ]
  },
  {
   "cell_type": "markdown",
   "metadata": {},
   "source": [
    "It follows:"
   ]
  },
  {
   "cell_type": "markdown",
   "metadata": {},
   "source": [
    "$$\\frac{\\partial L}{\\partial b^{(2)}} = \\frac{\\partial L}{\\partial z^{(2)}} \\frac{\\partial z^{(2)}}{\\partial b^{(2)}} = \\delta^{(1)}$$"
   ]
  },
  {
   "cell_type": "markdown",
   "metadata": {},
   "source": [
    "$$\n",
    "\\frac{\\partial L}{\\partial \\mathbf{w}^{(2)}}=\\frac{\\partial L}{\\partial z^{(2)}} \\frac{\\partial z^{(2)}}{\\partial \\mathbf{w}^{(2)}}\n",
    "=\\delta^{(1)}\\mathbf{a}^{(1)}\\quad\\vert\\quad\\delta^{(1)}\\mathbf{a}^{(1)}\\in \\mathbb{R}^{n_\\text{hidden_layer}}\n",
    "$$"
   ]
  },
  {
   "cell_type": "markdown",
   "metadata": {},
   "source": [
    "Next, we need:"
   ]
  },
  {
   "cell_type": "markdown",
   "metadata": {},
   "source": [
    "$$\n",
    "\\delta^{(2)} =\\frac{\\partial L}{\\partial \\mathbf{z}^{(1)}} = \\frac{\\partial L}{\\partial \\hat{y}} \\frac{\\partial \\hat{y}}{\\partial z^{(2)}}\\frac{\\partial z^{(2)}}{\\partial \\mathbf{a}^{(1)}}\\frac{\\partial \\mathbf{a}^{(1)}}{\\partial \\mathbf{z}^{(1)}}=\\delta^{(1)}\\frac{\\partial z^{(2)}}{\\partial \\mathbf{a}^{(1)}}\\frac{\\partial \\mathbf{a}^{(1)}}{\\partial \\mathbf{z}^{(1)}}\n",
    "$$"
   ]
  },
  {
   "cell_type": "markdown",
   "metadata": {},
   "source": [
    "$$\n",
    "\\frac{\\partial z^{(2)}}{\\partial \\mathbf{a}^{(1)}}=\\mathbf{w}^{(2)} \\quad\\frac{\\partial \\mathbf{a}^{(1)}}{\\partial \\mathbf{z}^{(1)}}=\\text{ReLU}'(\\mathbf{z}^{(1)})\n",
    "$$"
   ]
  },
  {
   "cell_type": "markdown",
   "metadata": {},
   "source": [
    "$$\n",
    "\\delta^{(2)}=\\delta^{(1)}\\mathbf{w}^{(2)} \\circ \\text{ReLU}'(\\mathbf{z}^{(1)})\\quad\\vert\\quad\\delta^{(2)}\\in \\mathbb{R}^{n_\\text{hidden_layer}}\n",
    "$$"
   ]
  },
  {
   "cell_type": "markdown",
   "metadata": {},
   "source": [
    "It follows:"
   ]
  },
  {
   "cell_type": "markdown",
   "metadata": {},
   "source": [
    "$$\n",
    "\\frac{\\partial L}{\\partial \\mathbf{b}^{(1)}} = \\frac{\\partial L}{\\partial \\mathbf{z}^{(1)}}\\frac{\\partial \\mathbf{z}^{(1)}}{\\partial{\\mathbf{b}^{(1)}}}  = \\delta^{(2)}\\frac{\\partial \\mathbf{z}^{(1)}}{\\partial{\\mathbf{b}^{(1)}}}=\\delta^{(2)}\n",
    "$$"
   ]
  },
  {
   "cell_type": "markdown",
   "metadata": {},
   "source": [
    "$$\n",
    "\\frac{\\partial L}{\\partial \\mathbf{W}^{(1)}} = \\frac{\\partial L}{\\partial \\mathbf{z}^{(1)}}\\frac{\\partial \\mathbf{W}^{(1)}}{\\partial{\\mathbf{b}^{(1)}}}  = \\delta^{(2)}\\frac{\\partial \\mathbf{z}^{(1)}}{\\partial{\\mathbf{W}^{(1)}}}=\\delta^{(2)}\\cdot\\mathbf{x}^{T(i)}\\quad\\vert\\quad\\delta^{(2)}\\cdot\\mathbf{x}^{T(i)}\\in \\mathbb{R}^{n_\\text{hidden_layer}\\times n_\\text{features}}\n",
    "$$"
   ]
  },
  {
   "cell_type": "markdown",
   "metadata": {},
   "source": [
    "---"
   ]
  },
  {
   "cell_type": "markdown",
   "metadata": {},
   "source": [
    "### Gradient Update"
   ]
  },
  {
   "cell_type": "markdown",
   "metadata": {},
   "source": [
    "We update our parameters as follows:"
   ]
  },
  {
   "cell_type": "markdown",
   "metadata": {},
   "source": [
    "$$\n",
    "\\mathbf{W}^{(1)}_{t+1} = \\mathbf{W}^{(1)}_t - \\eta \\frac{\\partial L}{\\partial \\mathbf{W}^{(1)}_t}\\quad\\vert\\quad\n",
    "\\mathbf{b}^{(1)}_{t+1} = \\mathbf{b}^{(1)}_t - \\eta \\frac{\\partial L}{\\partial \\mathbf{b}^{(1)}_t}\\quad\\vert\\quad\n",
    "\\mathbf{w}^{(2)}_{t+1} = \\mathbf{w}^{(2)}_t - \\eta \\frac{\\partial L}{\\partial \\mathbf{w}^{(2)}_t}\\quad\\vert\\quad\n",
    "b^{(2)}_{t+1} = b^{(2)}_t - \\eta \\frac{\\partial L}{\\partial b^{(2)}_t}\n",
    "$$"
   ]
  },
  {
   "cell_type": "markdown",
   "metadata": {},
   "source": [
    "where $\\eta$ is the learning rate."
   ]
  },
  {
   "cell_type": "markdown",
   "metadata": {},
   "source": [
    "---"
   ]
  },
  {
   "cell_type": "markdown",
   "metadata": {},
   "source": [
    "### Vectorization"
   ]
  },
  {
   "cell_type": "markdown",
   "metadata": {},
   "source": [
    "In practice, we put the whole (mini-)batches through our neural net at once. The forward and backward passes then look as follows:"
   ]
  },
  {
   "cell_type": "markdown",
   "metadata": {},
   "source": [
    "#### Forward Propagation"
   ]
  },
  {
   "cell_type": "markdown",
   "metadata": {},
   "source": [
    "$\\mathbf{Z}^{(1)} = \\mathbf{X}\\cdot \\mathbf{W}^{(1)}+\\mathbf{b}^{(1)} \\quad\\vert\\quad \\mathbf{Z}^{(1)} \\in \\mathbb{R}^{n_\\text{examples}\\times n_\\text{hidden}}$"
   ]
  },
  {
   "cell_type": "markdown",
   "metadata": {},
   "source": [
    "$\\mathbf{A}^{(1)} = \\text{ReLU}(\\mathbf{Z}^{(1)}) \\quad\\vert\\quad \\mathbf{A}^{(1)} \\in \\mathbb{R}^{n_\\text{examples}\\times n_\\text{hidden}}$"
   ]
  },
  {
   "cell_type": "markdown",
   "metadata": {},
   "source": [
    "$\\mathbf{z}^{(2)} = \\mathbf{A}^{(1)}\\cdot \\mathbf{w}^{(2)} + b^{(2)} \\quad\\vert\\quad \\mathbf{z}^{(2)} \\in\\mathbb{R}^{n_\\text{examples}}$"
   ]
  },
  {
   "cell_type": "markdown",
   "metadata": {},
   "source": [
    "$\\mathbf{\\hat{y}} = \\sigma(\\mathbf{z}^{(2)})\\quad\\vert\\quad \\hat{\\mathbf{y}} \\in\\mathbb{R}^{n_\\text{examples}}$"
   ]
  },
  {
   "cell_type": "markdown",
   "metadata": {},
   "source": [
    "#### Backward Propagation"
   ]
  },
  {
   "cell_type": "markdown",
   "metadata": {},
   "source": [
    "$\\delta^{(1)} =\\frac{\\partial L}{\\partial \\mathbf{z}^{(2)}}= \\mathbf{\\hat{y}}-\\mathbf{y}\\quad\\vert\\quad \\delta^{(1)} \\in\\mathbb{R}^{n_\\text{examples}}$"
   ]
  },
  {
   "cell_type": "markdown",
   "metadata": {},
   "source": [
    "$\\frac{\\partial L}{\\partial b^{(2)}}= \\sum_{k=1}^{n_\\text{examples}}\\delta^{(1)}_k$"
   ]
  },
  {
   "cell_type": "markdown",
   "metadata": {},
   "source": [
    "$\\frac{\\partial L}{\\partial \\mathbf{w}^{(2)}}= \\mathbf{A}^{T(1)}\\delta^{(1)}$"
   ]
  },
  {
   "cell_type": "markdown",
   "metadata": {},
   "source": [
    "$\n",
    "\\delta^{(2)} =\\frac{\\partial L}{\\partial \\mathbf{Z}^{(1)}} =\\delta^{(1)}\\frac{\\partial \\mathbf{z}^{(2)}}{\\partial \\mathbf{A}^{(1)}}\\frac{\\partial \\mathbf{A}^{(1)}}{\\partial \\mathbf{Z}^{(1)}}=\\delta^{(1)}\\cdot\\mathbf{w}^{T(2)}\\circ\\text{ReLU}'(\\mathbf{Z}^{(1)})\\quad\\vert\\quad \\delta^{(2)} \\in\\mathbb{R}^{n_\\text{examples}\\times n_\\text{hidden}}\n",
    "$"
   ]
  },
  {
   "cell_type": "markdown",
   "metadata": {},
   "source": [
    "$\\frac{\\partial L}{\\partial \\mathbf{b}^{(1)}}= \\sum_{k=1}^{n_\\text{examples}}\\delta^{(2)}$"
   ]
  },
  {
   "cell_type": "markdown",
   "metadata": {},
   "source": [
    "$\\frac{\\partial L}{\\partial \\mathbf{W}^{(1)}}= \\mathbf{X}^{T}\\delta^{(2)}$"
   ]
  },
  {
   "cell_type": "markdown",
   "metadata": {},
   "source": [
    "---"
   ]
  },
  {
   "cell_type": "markdown",
   "metadata": {},
   "source": [
    "### Code"
   ]
  },
  {
   "cell_type": "code",
   "execution_count": 6,
   "metadata": {},
   "outputs": [],
   "source": [
    "def next_batch(X, y, batch_size):\n",
    "    \"\"\"\n",
    "    Creates a training batch generator which itself returns batches.\n",
    "\n",
    "    Parameters\n",
    "    ----------\n",
    "    X : array (2-D)\n",
    "        the training examples of shape [n_examples, n_features].\n",
    "    y : array (1-D)\n",
    "        the ground truth labels associated with the training set of shape [n_examples,].\n",
    "    batch_size : int\n",
    "        mini-batch size for training. \n",
    "\n",
    "    Yields\n",
    "    ----------\n",
    "    X_batch : array (2-D)\n",
    "        of shape [batch_size, n_features]\n",
    "    y_batch : array (1-D)\n",
    "        of shape [batch_size, 1]\n",
    "    \"\"\"\n",
    "    n_examples, _ = X.shape\n",
    "\n",
    "    # Parallely shuffle the examples\n",
    "    p = np.random.permutation(n_examples)\n",
    "    X, y = X[p], y[p]\n",
    "\n",
    "    for batch_offset in range(0, n_examples, batch_size):\n",
    "        if n_examples < batch_offset + batch_size:\n",
    "            return\n",
    "        X_batch = X[batch_offset:batch_offset + batch_size]\n",
    "        y_batch = y[batch_offset:batch_offset + batch_size]\n",
    "        yield X_batch, y_batch"
   ]
  },
  {
   "cell_type": "code",
   "execution_count": 7,
   "metadata": {},
   "outputs": [],
   "source": [
    "class NeuralNetwork:\n",
    "    \"\"\"\n",
    "    This model is a simple model for binary classification consisting of an input layer, \n",
    "    one hidden layer and and output layer.\n",
    "    \"\"\"\n",
    "    \n",
    "    def __init__(self, hidden_size=100):\n",
    "        \"\"\"\n",
    "        Initialize the neural network model.\n",
    "\n",
    "        Parameters\n",
    "        ----------\n",
    "        hidden_size : int, default: 100\n",
    "            the number of hidden units.\n",
    "        \"\"\"\n",
    "        self.n_hidden = hidden_size\n",
    "        \n",
    "    def forward(self, X):\n",
    "        \"\"\"\n",
    "        Run one forward propagation pass through the network.\n",
    "\n",
    "        Parameters\n",
    "        ----------\n",
    "        X : array (2-D)\n",
    "            the data to be passed through the network of shape [n_examples, n_features].\n",
    "            \n",
    "        Returns\n",
    "        ----------\n",
    "        (array, array, array)\n",
    "            y_hat: array (1-D)\n",
    "                the predictions of shape [n_examples,].\n",
    "        \"\"\"\n",
    "        # Input -> hidden\n",
    "        self.Z1 = X.dot(self.W1) + self.b1\n",
    "        self.A1 = relu(self.Z1)\n",
    "        \n",
    "        # Hidden -> output\n",
    "        z2 = self.A1.dot(self.w2) + self.b2\n",
    "        y_hat = sigmoid(z2)\n",
    "        \n",
    "        return y_hat\n",
    "    \n",
    "    def backward(self, X, y, y_hat):\n",
    "        \"\"\"\n",
    "        Run one backward propagation pass through the network.\n",
    "\n",
    "        Parameters\n",
    "        ----------\n",
    "        X : array (2-D)\n",
    "            the data that has been passed through the network \n",
    "            in the previous forward pass of shape [n_examples, n_features].\n",
    "        y : array (1-D)\n",
    "            the ground truth labels of shape [n_examples,].\n",
    "        y_hat : array (1-D)\n",
    "            the predictions of shape [n_examples]\n",
    "            \n",
    "        Returns\n",
    "        ----------\n",
    "        (float, array, array, array)\n",
    "            grad_b2 : float\n",
    "                the partial derivative w.r.t b2.\n",
    "            grad_w2: array (1-D)\n",
    "                the partial derivative w.r.t. w2 of shape [n_hidden,].\n",
    "            grad_b1: array (1-D)\n",
    "                the partial derivative w.r.t. b1 of shape [n_hidden,].\n",
    "            grad_W1: array (2-D)\n",
    "                the partial derivative w.r.t. W1 of shape [n_features, n_hidden].\n",
    "        \"\"\"\n",
    "        delta1 = y_hat - y\n",
    "        grad_b2 = delta1.sum()\n",
    "        grad_w2 = self.A1.T.dot(delta1)\n",
    "        \n",
    "        delta2 = np.outer(delta1, self.w2.T) * relu_prime(self.Z1)\n",
    "        grad_b1 = delta2.sum(axis=0)\n",
    "        grad_W1 = X.T.dot(delta2)\n",
    "        \n",
    "        return grad_b2, grad_w2, grad_b1, grad_W1\n",
    "    \n",
    "    def train(self, X, y, batch_size=16, learning_rate=0.001, n_epochs=1000, print_every=100):\n",
    "        \"\"\"\n",
    "        Run neural network training on the given training set.\n",
    "\n",
    "        Parameters\n",
    "        ----------\n",
    "        X : array (2-D)\n",
    "            the training examples of shape [n_examples, n_features].\n",
    "        y : array (1-D)\n",
    "            the ground truth labels associated with the training set of shape [n_examples,].\n",
    "        batch_size : int, default: 32\n",
    "            mini-batch size for training.\n",
    "        learning_rate : float, default: 0.001\n",
    "            the learning rate.\n",
    "        n_epochs : int, default: 1000\n",
    "            the number of epochs used for training.\n",
    "        print_every : int, default: 100\n",
    "            indicates how often the current loss is printed.\n",
    "        \"\"\"\n",
    "        n_examples, n_features = X.shape\n",
    "        \n",
    "        # 1. Initialize Parameters\n",
    "        self.W1 = np.random.randn(n_features, self.n_hidden)\n",
    "        self.b1 = np.random.randn(self.n_hidden)\n",
    "        \n",
    "        self.w2 = np.random.randn(self.n_hidden)\n",
    "        self.b2 = np.random.randn()\n",
    "        \n",
    "        self.losses = []\n",
    "        \n",
    "        start = time()\n",
    "        for i in range(n_epochs):\n",
    "\n",
    "            running_loss = []\n",
    "            n_batches = 0\n",
    "\n",
    "            # 2. Generate and shuffle mini-batches\n",
    "            for X_batch, y_batch in next_batch(X, y, batch_size):\n",
    "\n",
    "                # 3. Compute y_hat for the mini-batch\n",
    "                y_hat = self.forward(X_batch)\n",
    "\n",
    "                # 4. Compute loss\n",
    "                loss = (1 / batch_size) * np.sum(ce_loss(y_hat, y_batch))\n",
    "                running_loss.append(loss)\n",
    "\n",
    "                # 5. Compute the gradients\n",
    "                grads = self.backward(X_batch, y_batch, y_hat)\n",
    "                grad_b2, grad_w2, grad_b1, grad_W1 = grads\n",
    "\n",
    "                # 6. Update parameters\n",
    "                self.b2 -= learning_rate * grad_b2\n",
    "                self.w2 -= learning_rate * grad_w2\n",
    "                self.b1 -= learning_rate * grad_b1\n",
    "                self.W1 -= learning_rate * grad_W1\n",
    "\n",
    "                n_batches += 1\n",
    "\n",
    "            epoch_loss = sum(running_loss) / n_batches\n",
    "            self.losses.append(epoch_loss)\n",
    "            if i == 0 or (i + 1) % print_every == 0:\n",
    "                print(f\"Epoch: {i + 1}/{n_epochs}\\t Loss: {epoch_loss}\")\n",
    "        \n",
    "        elapsed = time() - start\n",
    "        print(f\"Done 🥳. Training took {elapsed} seconds.\")\n",
    "            \n",
    "    def test(self, X, y, threshold=0.5):\n",
    "        \"\"\"\n",
    "        Test trained model on the given test set.\n",
    "\n",
    "        Parameters\n",
    "        ----------\n",
    "        X : array (2-D)\n",
    "            the test examples of shape [n_examples, n_features].\n",
    "        y : array (1-D)\n",
    "            the ground truth labels associated with the test set of shape [n_examples,].\n",
    "        threshold : float, default: 0.5\n",
    "            the decision threshold, all values larger than this value will be assigned to class 1.\n",
    "            \n",
    "        Returns\n",
    "        ----------\n",
    "        (float, float)\n",
    "            accuracy : float\n",
    "                how accurately the test set was predicted\n",
    "            f1 : float\n",
    "                the F1 score, i.e. the harmonic mean of precision and recall\n",
    "        \"\"\"\n",
    "        threshold = min(1, max(0, threshold))\n",
    "        y_hat = self.forward(X)\n",
    "        y_hat[y_hat > threshold] = 1\n",
    "        y_hat[y_hat <= threshold] = 0\n",
    "        diff = y_hat - y\n",
    "        n = len(y)\n",
    "        tp = len(diff[diff == 0])\n",
    "        fp = len(diff[diff == 1])\n",
    "        fn = len(diff[diff == -1])\n",
    "        accuracy = tp / n\n",
    "        precision = tp / (tp + fp)\n",
    "        recall = tp / (tp + fn)\n",
    "        f1 = 2 * (precision * recall) / (precision + recall)\n",
    "        return accuracy, f1"
   ]
  },
  {
   "cell_type": "markdown",
   "metadata": {},
   "source": [
    "### Dataset"
   ]
  },
  {
   "cell_type": "markdown",
   "metadata": {},
   "source": [
    "We run training on an SMS dataset in order to classify wheter a given SMS is spam or ham. The dataset can be obtained [here](https://archive.ics.uci.edu/ml/datasets/sms+spam+collection)."
   ]
  },
  {
   "cell_type": "markdown",
   "metadata": {},
   "source": [
    "#### Load Dataset"
   ]
  },
  {
   "cell_type": "code",
   "execution_count": 8,
   "metadata": {},
   "outputs": [],
   "source": [
    "sms_df = pd.read_csv(os.path.join(\"data\", \"SMSSpamCollection\"), sep=\"\\t\", header=None, names=[\"class\", \"message\"])"
   ]
  },
  {
   "cell_type": "code",
   "execution_count": 9,
   "metadata": {},
   "outputs": [
    {
     "data": {
      "text/html": [
       "<div>\n",
       "<style scoped>\n",
       "    .dataframe tbody tr th:only-of-type {\n",
       "        vertical-align: middle;\n",
       "    }\n",
       "\n",
       "    .dataframe tbody tr th {\n",
       "        vertical-align: top;\n",
       "    }\n",
       "\n",
       "    .dataframe thead th {\n",
       "        text-align: right;\n",
       "    }\n",
       "</style>\n",
       "<table border=\"1\" class=\"dataframe\">\n",
       "  <thead>\n",
       "    <tr style=\"text-align: right;\">\n",
       "      <th></th>\n",
       "      <th>class</th>\n",
       "      <th>message</th>\n",
       "    </tr>\n",
       "  </thead>\n",
       "  <tbody>\n",
       "    <tr>\n",
       "      <th>0</th>\n",
       "      <td>ham</td>\n",
       "      <td>Go until jurong point, crazy.. Available only ...</td>\n",
       "    </tr>\n",
       "    <tr>\n",
       "      <th>1</th>\n",
       "      <td>ham</td>\n",
       "      <td>Ok lar... Joking wif u oni...</td>\n",
       "    </tr>\n",
       "    <tr>\n",
       "      <th>2</th>\n",
       "      <td>spam</td>\n",
       "      <td>Free entry in 2 a wkly comp to win FA Cup fina...</td>\n",
       "    </tr>\n",
       "    <tr>\n",
       "      <th>3</th>\n",
       "      <td>ham</td>\n",
       "      <td>U dun say so early hor... U c already then say...</td>\n",
       "    </tr>\n",
       "    <tr>\n",
       "      <th>4</th>\n",
       "      <td>ham</td>\n",
       "      <td>Nah I don't think he goes to usf, he lives aro...</td>\n",
       "    </tr>\n",
       "  </tbody>\n",
       "</table>\n",
       "</div>"
      ],
      "text/plain": [
       "  class                                            message\n",
       "0   ham  Go until jurong point, crazy.. Available only ...\n",
       "1   ham                      Ok lar... Joking wif u oni...\n",
       "2  spam  Free entry in 2 a wkly comp to win FA Cup fina...\n",
       "3   ham  U dun say so early hor... U c already then say...\n",
       "4   ham  Nah I don't think he goes to usf, he lives aro..."
      ]
     },
     "execution_count": 9,
     "metadata": {},
     "output_type": "execute_result"
    }
   ],
   "source": [
    "sms_df.head()"
   ]
  },
  {
   "cell_type": "code",
   "execution_count": 10,
   "metadata": {},
   "outputs": [
    {
     "data": {
      "image/png": "[encoded data removed]",
      "text/plain": [
       "<Figure size 432x288 with 1 Axes>"
      ]
     },
     "metadata": {
      "needs_background": "light"
     },
     "output_type": "display_data"
    }
   ],
   "source": [
    "_ = sms_df[\"class\"].value_counts().plot(kind=\"bar\", color=\"r\", ylabel=\"number of messages\")"
   ]
  },
  {
   "cell_type": "markdown",
   "metadata": {},
   "source": [
    "We can see that the data is rather unbalanced at this moment. Thus, we drop *ham* messages to balance out the distribution."
   ]
  },
  {
   "cell_type": "code",
   "execution_count": 11,
   "metadata": {},
   "outputs": [],
   "source": [
    "n_ham_messages = sms_df[sms_df[\"class\"] == \"ham\"].count()[0]\n",
    "n_spam_messages = sms_df[sms_df[\"class\"] == \"spam\"].count()[0]\n",
    "n_difference = n_ham_messages - n_spam_messages"
   ]
  },
  {
   "cell_type": "code",
   "execution_count": 12,
   "metadata": {},
   "outputs": [],
   "source": [
    "drop_messages = sms_df[sms_df[\"class\"] == \"ham\"].sample(n_difference).index"
   ]
  },
  {
   "cell_type": "code",
   "execution_count": 13,
   "metadata": {},
   "outputs": [],
   "source": [
    "sms_df.drop(drop_messages, inplace=True)"
   ]
  },
  {
   "cell_type": "code",
   "execution_count": 14,
   "metadata": {},
   "outputs": [
    {
     "data": {
      "image/png": "[encoded data removed]",
      "text/plain": [
       "<Figure size 432x288 with 1 Axes>"
      ]
     },
     "metadata": {
      "needs_background": "light"
     },
     "output_type": "display_data"
    }
   ],
   "source": [
    "_ = sms_df[\"class\"].value_counts().plot(kind=\"bar\", color=\"red\", ylabel=\"number of messages\")"
   ]
  },
  {
   "cell_type": "code",
   "execution_count": 15,
   "metadata": {},
   "outputs": [],
   "source": [
    "n_ham_messages = sms_df[sms_df[\"class\"] == \"ham\"].count()[0]\n",
    "n_spam_messages = sms_df[sms_df[\"class\"] == \"spam\"].count()[0]"
   ]
  },
  {
   "cell_type": "code",
   "execution_count": 16,
   "metadata": {},
   "outputs": [
    {
     "name": "stdout",
     "output_type": "stream",
     "text": [
      "There are 747 ham and 747 spam messages in the dataset.\n"
     ]
    }
   ],
   "source": [
    "print(f\"There are {n_ham_messages} ham and {n_spam_messages} spam messages in the dataset.\")"
   ]
  },
  {
   "cell_type": "markdown",
   "metadata": {},
   "source": [
    "As we can see, we now have an equal count of ham and spam messages."
   ]
  },
  {
   "cell_type": "markdown",
   "metadata": {},
   "source": [
    "#### Vectorize the data"
   ]
  },
  {
   "cell_type": "markdown",
   "metadata": {},
   "source": [
    "We will use the character counts within our SMS messages as input feature."
   ]
  },
  {
   "cell_type": "code",
   "execution_count": 17,
   "metadata": {},
   "outputs": [],
   "source": [
    "count_vectorizer = CountVectorizer(analyzer=\"char\")"
   ]
  },
  {
   "cell_type": "code",
   "execution_count": 18,
   "metadata": {},
   "outputs": [],
   "source": [
    "X = count_vectorizer.fit_transform(sms_df[\"message\"])\n",
    "y = pd.get_dummies(sms_df[\"class\"], drop_first=True).to_numpy().reshape(-1)"
   ]
  },
  {
   "cell_type": "code",
   "execution_count": 19,
   "metadata": {},
   "outputs": [],
   "source": [
    "X_train, X_test, y_train, y_test = train_test_split(X, y, shuffle=True)"
   ]
  },
  {
   "cell_type": "markdown",
   "metadata": {},
   "source": [
    "### Run Training"
   ]
  },
  {
   "cell_type": "markdown",
   "metadata": {},
   "source": [
    "Let us now try to classify ham vs. spam using our small neural network."
   ]
  },
  {
   "cell_type": "code",
   "execution_count": 20,
   "metadata": {},
   "outputs": [
    {
     "name": "stdout",
     "output_type": "stream",
     "text": [
      "Epoch: 1/1000\t Loss: 3.573318857974244\n",
      "Epoch: 100/1000\t Loss: 0.00281407741354602\n",
      "Epoch: 200/1000\t Loss: 0.0011412850557561951\n",
      "Epoch: 300/1000\t Loss: 0.0007413974494171933\n",
      "Epoch: 400/1000\t Loss: 0.0005393859602731699\n",
      "Epoch: 500/1000\t Loss: 0.0004337870843533006\n",
      "Epoch: 600/1000\t Loss: 0.00035629135512806634\n",
      "Epoch: 700/1000\t Loss: 0.0003044060347697841\n",
      "Epoch: 800/1000\t Loss: 0.0002650675823143821\n",
      "Epoch: 900/1000\t Loss: 0.00023407767013235238\n",
      "Epoch: 1000/1000\t Loss: 0.0002100983292426165\n",
      "Done 🥳. Training took 27.588141679763794 seconds.\n"
     ]
    }
   ],
   "source": [
    "nn = NeuralNetwork()\n",
    "nn.train(X_train, y_train)"
   ]
  },
  {
   "cell_type": "markdown",
   "metadata": {},
   "source": [
    "### Test the Model"
   ]
  },
  {
   "cell_type": "code",
   "execution_count": 21,
   "metadata": {},
   "outputs": [
    {
     "name": "stdout",
     "output_type": "stream",
     "text": [
      "The accuracy_train on the training set is 100.0 %\n",
      "The f1_train score on the training set is 100.0 %\n"
     ]
    }
   ],
   "source": [
    "accuracy_train, f1_train = nn.test(X_train, y_train)\n",
    "print(f\"The accuracy_train on the training set is {accuracy_train * 100} %\")\n",
    "print(f\"The f1_train score on the training set is {f1_train * 100} %\")"
   ]
  },
  {
   "cell_type": "code",
   "execution_count": 22,
   "metadata": {},
   "outputs": [
    {
     "name": "stdout",
     "output_type": "stream",
     "text": [
      "The accuracy on the test set is 93.31550802139037 %\n",
      "The F1 score on the test set is 96.54218533886585 %\n"
     ]
    }
   ],
   "source": [
    "accuracy_test, f1_test = nn.test(X_test, y_test)\n",
    "print(f\"The accuracy on the test set is {accuracy_test * 100} %\")\n",
    "print(f\"The F1 score on the test set is {f1_test * 100} %\")"
   ]
  },
  {
   "cell_type": "markdown",
   "metadata": {},
   "source": [
    "#### Qualitatively Test Some Random Messages"
   ]
  },
  {
   "cell_type": "code",
   "execution_count": 23,
   "metadata": {},
   "outputs": [],
   "source": [
    "spam_message = [\"Hello, I am Prince from Nigeria. I have $1.000.000 for you. Give me your bank account for transfer\"]\n",
    "ham_message = [\"Yo, whatsup? Haven't heard of you in a long time! Wanna meet up tonight at 8.00? :)\"]"
   ]
  },
  {
   "cell_type": "code",
   "execution_count": 24,
   "metadata": {},
   "outputs": [],
   "source": [
    "spam_X = count_vectorizer.transform(spam_message)\n",
    "ham_X = count_vectorizer.transform(ham_message)"
   ]
  },
  {
   "cell_type": "code",
   "execution_count": 25,
   "metadata": {},
   "outputs": [
    {
     "name": "stdout",
     "output_type": "stream",
     "text": [
      "Hello, I am Prince from Nigeria. I have $1.000.000 for you. Give me your bank account for transfer \n",
      "---> Spam with a probability of 100 %\n",
      "\n",
      "Yo, whatsup? Haven't heard of you in a long time! Wanna meet up tonight at 8.00? :) \n",
      "---> Spam with a probability of 4.36e-07 %\n"
     ]
    }
   ],
   "source": [
    "print(spam_message[0], \"\\n---> Spam with a probability of {0:.3g} %\".format(nn.forward(spam_X)[0] * 100))\n",
    "print()\n",
    "print(ham_message[0], \"\\n---> Spam with a probability of {0:.3g} %\".format(nn.forward(ham_X)[0] * 100))"
   ]
  },
  {
   "cell_type": "markdown",
   "metadata": {},
   "source": [
    "---"
   ]
  },
  {
   "cell_type": "markdown",
   "metadata": {},
   "source": [
    "## Multi-class Classification"
   ]
  },
  {
   "cell_type": "markdown",
   "metadata": {},
   "source": [
    "As described in the [Logistic Regression notebook](./Logistic_Regression.ipynb) our ground truth labels consist of more than just two classes. Instead of the sigmoid function, in the output layer we use the [softmax function](./Logistic_Regression.ipynb#The-Softmax-Function) to obtain soft labels over all classes and [categorical cross-entropy](./Logistic_Regression.ipynb#The-Categorical-Cross-Entropy-Loss-Function) as loss function."
   ]
  },
  {
   "cell_type": "code",
   "execution_count": 26,
   "metadata": {},
   "outputs": [],
   "source": [
    "MAX_EXP = 709\n",
    "\n",
    "def softmax(z):\n",
    "    z -= np.max(z)\n",
    "    z = np.clip(z, -MAX_EXP, None) # For numerical stability\n",
    "    exp = np.exp(z)\n",
    "    return exp / np.sum(exp, axis=-1, keepdims=True)"
   ]
  },
  {
   "cell_type": "code",
   "execution_count": 27,
   "metadata": {},
   "outputs": [],
   "source": [
    "EPSILON = 1e-9\n",
    "\n",
    "def categorical_ce_loss(Y_hat, Y):\n",
    "    Y_hat = np.clip(Y_hat, EPSILON, 1 - EPSILON) # For numerical stability\n",
    "    return - np.sum(Y * np.log(Y_hat))"
   ]
  },
  {
   "cell_type": "markdown",
   "metadata": {},
   "source": [
    "Forward and backward propragation are almost identical with the binary counterpart, apart from the fact that the sigmoid activation function on the output layer is replaced with softmax."
   ]
  },
  {
   "cell_type": "markdown",
   "metadata": {},
   "source": [
    "#### Forward Propagation"
   ]
  },
  {
   "cell_type": "markdown",
   "metadata": {},
   "source": [
    "$\\mathbf{Z}^{(1)} = \\mathbf{X}\\cdot \\mathbf{W}^{(1)}+\\mathbf{b}^{(1)} \\quad\\vert\\quad \\mathbf{Z}^{(1)} \\in \\mathbb{R}^{n_\\text{examples}\\times n_\\text{hidden}}$"
   ]
  },
  {
   "cell_type": "markdown",
   "metadata": {},
   "source": [
    "$\\mathbf{A}^{(1)} = \\text{ReLU}(\\mathbf{Z}^{(1)}) \\quad\\vert\\quad \\mathbf{A}^{(1)} \\in \\mathbb{R}^{n_\\text{examples}\\times n_\\text{hidden}}$"
   ]
  },
  {
   "cell_type": "markdown",
   "metadata": {},
   "source": [
    "$\\mathbf{Z}^{(2)} = \\mathbf{A}^{(1)}\\cdot \\mathbf{W}^{(2)} + \\mathbf{b}^{(2)} \\quad\\vert\\quad \\mathbf{Z}^{(2)} \\in\\mathbb{R}^{n_\\text{examples}\\times n_\\text{classes}}$"
   ]
  },
  {
   "cell_type": "markdown",
   "metadata": {},
   "source": [
    "$\\mathbf{\\hat{Y}} = \\text{softmax}(\\mathbf{Z}^{(2)})\\quad\\vert\\quad \\hat{\\mathbf{Y}} \\in\\mathbb{R}^{n_\\text{examples}\\times n_\\text{classes}}$"
   ]
  },
  {
   "cell_type": "markdown",
   "metadata": {},
   "source": [
    "#### Backward Propagation"
   ]
  },
  {
   "cell_type": "markdown",
   "metadata": {},
   "source": [
    "$\\delta^{(1)} =\\frac{\\partial L}{\\partial \\mathbf{Z}^{(2)}}= \\mathbf{\\hat{Y}}-\\mathbf{Y}\\quad\\vert\\quad \\delta^{(1)} \\in\\mathbb{R}^{n_\\text{examples}\\times n_\\text{classes}}$"
   ]
  },
  {
   "cell_type": "markdown",
   "metadata": {},
   "source": [
    "$\\frac{\\partial L}{\\partial \\mathbf{b}^{(2)}}= \\sum_{k=1}^{n_\\text{examples}}\\delta^{(1)}_k$"
   ]
  },
  {
   "cell_type": "markdown",
   "metadata": {},
   "source": [
    "$\\frac{\\partial L}{\\partial \\mathbf{W}^{(2)}}= \\mathbf{A}^{T(1)}\\delta^{(1)}$"
   ]
  },
  {
   "cell_type": "markdown",
   "metadata": {},
   "source": [
    "$\n",
    "\\delta^{(2)} =\\frac{\\partial L}{\\partial \\mathbf{Z}^{(1)}} =\\delta^{(1)}\\frac{\\partial \\mathbf{Z}^{(2)}}{\\partial \\mathbf{A}^{(1)}}\\frac{\\partial \\mathbf{A}^{(1)}}{\\partial \\mathbf{Z}^{(1)}}=\\delta^{(1)}\\cdot\\mathbf{W}^{T(2)}\\circ\\text{ReLU}'(\\mathbf{Z}^{(1)})\\quad\\vert\\quad \\delta^{(2)} \\in\\mathbb{R}^{n_\\text{examples}\\times n_\\text{hidden}}\n",
    "$"
   ]
  },
  {
   "cell_type": "markdown",
   "metadata": {},
   "source": [
    "$\\frac{\\partial L}{\\partial \\mathbf{b}^{(1)}}= \\sum_{k=1}^{n_\\text{examples}}\\delta^{(2)}$"
   ]
  },
  {
   "cell_type": "markdown",
   "metadata": {},
   "source": [
    "$\\frac{\\partial L}{\\partial \\mathbf{W}^{(1)}}= \\mathbf{X}^{T}\\delta^{(2)}$"
   ]
  },
  {
   "cell_type": "markdown",
   "metadata": {},
   "source": [
    "### Code"
   ]
  },
  {
   "cell_type": "code",
   "execution_count": 28,
   "metadata": {},
   "outputs": [],
   "source": [
    "class MultiClassNeuralNetwork:\n",
    "    \"\"\"\n",
    "    This model is a simple model for multiclass classification consisting of an input layer, \n",
    "    one hidden layer and and output layer.\n",
    "    \"\"\"\n",
    "    \n",
    "    def __init__(self, hidden_size=500):\n",
    "        \"\"\"\n",
    "        Initialize the neural network model.\n",
    "\n",
    "        Parameters\n",
    "        ----------\n",
    "        hidden_size : int, default: 500\n",
    "            the number of hidden units.\n",
    "        \"\"\"\n",
    "        self.n_hidden = hidden_size\n",
    "        \n",
    "    def forward(self, X):\n",
    "        \"\"\"\n",
    "        Run one forward propagation pass through the network.\n",
    "\n",
    "        Parameters\n",
    "        ----------\n",
    "        X : array (2-D)\n",
    "            the data to be passed through the network of shape [n_examples, n_features].\n",
    "            \n",
    "        Returns\n",
    "        ----------\n",
    "        (array, array, array)\n",
    "            Y_hat: array (2-D)\n",
    "                the predictions of shape [n_examples, n_classes].\n",
    "        \"\"\"\n",
    "        # Input -> hidden\n",
    "        self.Z1 = X.dot(self.W1) + self.b1\n",
    "        self.A1 = relu(self.Z1)\n",
    "        \n",
    "        # Hidden -> output\n",
    "        Z2 = self.A1.dot(self.W2) + self.b2\n",
    "        Y_hat = softmax(Z2)\n",
    "        \n",
    "        return Y_hat\n",
    "    \n",
    "    def backward(self, X, Y, Y_hat):\n",
    "        \"\"\"\n",
    "        Run one backward propagation pass through the network.\n",
    "\n",
    "        Parameters\n",
    "        ----------\n",
    "        X : array (2-D)\n",
    "            the data that has been passed through the network \n",
    "            in the previous forward pass of shape [n_examples, n_features].\n",
    "        Y : array (2-D)\n",
    "            the ground truth labels of shape [n_examples, n_classes].\n",
    "        Y_hat : array (2-D)\n",
    "            the predictions of shape [n_examples, n_classes]\n",
    "            \n",
    "        Returns\n",
    "        ----------\n",
    "        (float, array, array, array)\n",
    "            grad_b2 : array (1-D)\n",
    "                the partial derivative w.r.t b2.\n",
    "            grad_W2: array (2-D)\n",
    "                the partial derivative w.r.t. w2 of shape [n_hidden, n_classes].\n",
    "            grad_b1: array (1-D)\n",
    "                the partial derivative w.r.t. b1 of shape [n_hidden,].\n",
    "            grad_W1: array (2-D)\n",
    "                the partial derivative w.r.t. W1 of shape [n_features, n_hidden].\n",
    "        \"\"\"\n",
    "        delta1 = Y_hat - Y\n",
    "        grad_b2 = delta1.sum(axis=0)\n",
    "        grad_W2 = self.A1.T.dot(delta1)\n",
    "        \n",
    "        delta2 = delta1.dot(self.W2.T) * relu_prime(self.Z1)\n",
    "        grad_b1 = delta2.sum(axis=0)\n",
    "        grad_W1 = X.T.dot(delta2)\n",
    "        \n",
    "        return grad_b2, grad_W2, grad_b1, grad_W1\n",
    "    \n",
    "    def train(self, X, Y, batch_size=64, learning_rate=0.001, n_epochs=1000, print_every=10):\n",
    "        \"\"\"\n",
    "        Run neural network training on the given training set.\n",
    "\n",
    "        Parameters\n",
    "        ----------\n",
    "        X : array (2-D)\n",
    "            the training examples of shape [n_examples, n_features].\n",
    "        Y : array (2-D)\n",
    "            the ground truth labels associated with the training set of shape [n_examples, n_classes].\n",
    "        batch_size : int, default: 64\n",
    "            mini-batch size for training.\n",
    "        learning_rate : float, default: 0.001\n",
    "            the learning rate.\n",
    "        n_epochs : int, default: 1000\n",
    "            the number of epochs used for training.\n",
    "        print_every : int, default: 10\n",
    "            indicates how often the current loss is printed.\n",
    "        \"\"\"\n",
    "        n_examples, n_features = X.shape\n",
    "        _, n_classes = Y.shape\n",
    "        \n",
    "        # 1. Initialize Parameters\n",
    "        self.W1 = np.random.randn(n_features, self.n_hidden)\n",
    "        self.b1 = np.random.randn(self.n_hidden)\n",
    "        \n",
    "        self.W2 = np.random.randn(self.n_hidden, n_classes)\n",
    "        self.b2 = np.random.randn(n_classes)\n",
    "        \n",
    "        self.losses = []\n",
    "        \n",
    "        start = time()\n",
    "        for i in range(n_epochs):\n",
    "\n",
    "            running_loss = []\n",
    "            n_batches = 0\n",
    "\n",
    "            # 2. Generate and shuffle mini-batches\n",
    "            for X_batch, Y_batch in next_batch(X, Y, batch_size):\n",
    "\n",
    "                # 3. Compute Y_hat for the mini-batch\n",
    "                Y_hat = self.forward(X_batch)\n",
    "\n",
    "                # 4. Compute loss\n",
    "                loss = (1 / batch_size) * np.sum(categorical_ce_loss(Y_hat, Y_batch))\n",
    "                running_loss.append(loss)\n",
    "\n",
    "                # 5. Compute the gradients\n",
    "                grads = self.backward(X_batch, Y_batch, Y_hat)\n",
    "                grad_b2, grad_W2, grad_b1, grad_W1 = grads\n",
    "\n",
    "                # 6. Update parameters\n",
    "                self.b2 -= learning_rate * grad_b2\n",
    "                self.W2 -= learning_rate * grad_W2\n",
    "                self.b1 -= learning_rate * grad_b1\n",
    "                self.W1 -= learning_rate * grad_W1\n",
    "\n",
    "                n_batches += 1\n",
    "\n",
    "            epoch_loss = sum(running_loss) / n_batches\n",
    "            self.losses.append(epoch_loss)\n",
    "            if i == 0 or (i + 1) % print_every == 0:\n",
    "                print(f\"Epoch: {i + 1}/{n_epochs}\\t Loss: {epoch_loss}\")\n",
    "        \n",
    "        elapsed = time() - start\n",
    "        print(f\"Done 🥳. Training took {elapsed} seconds.\")\n",
    "            \n",
    "    def test(self, X, Y):\n",
    "        \"\"\"\n",
    "        Test trained model on the given test set.\n",
    "\n",
    "        Parameters\n",
    "        ----------\n",
    "        X : array (2-D)\n",
    "            the test examples of shape [n_examples, n_features].\n",
    "        Y : array (1-D)\n",
    "            the ground truth labels associated with the test set of shape [n_examples,].\n",
    "        threshold : float, default: 0.5\n",
    "            the decision threshold, all values larger than this value will be assigned to class 1.\n",
    "            \n",
    "        Returns\n",
    "        ----------\n",
    "        accuracy : float\n",
    "            how accurately the test set was predicted\n",
    "        \"\"\"\n",
    "        Y_hat = self.forward(X)\n",
    "        predictions = np.argmax(Y_hat, axis=1)\n",
    "        diff = predictions - Y.argmax(axis=1)\n",
    "        n = len(diff)\n",
    "        tp = len(diff[diff == 0])\n",
    "        return tp / n"
   ]
  },
  {
   "cell_type": "markdown",
   "metadata": {},
   "source": [
    "### Dataset"
   ]
  },
  {
   "cell_type": "markdown",
   "metadata": {},
   "source": [
    "#### Load and Preprocess Dataset"
   ]
  },
  {
   "cell_type": "markdown",
   "metadata": {},
   "source": [
    "In this example, we use the Twitter US Airline Sentiment Dataset. Here, tweets are labeled with one of three sentiment scores (positive, negative or neutral). The dataset can be downloaded [here](https://www.kaggle.com/crowdflower/twitter-airline-sentiment). We only take items with a confidence of 1."
   ]
  },
  {
   "cell_type": "code",
   "execution_count": 29,
   "metadata": {},
   "outputs": [],
   "source": [
    "airlines_df = pd.read_csv(os.path.join(\"data\", \"AirlineTweets.csv\"), sep=\",\")\n",
    "airlines_df = airlines_df[airlines_df[\"airline_sentiment_confidence\"] == 1][[\"text\", \"airline\", \"airline_sentiment\"]]"
   ]
  },
  {
   "cell_type": "code",
   "execution_count": 30,
   "metadata": {},
   "outputs": [
    {
     "data": {
      "text/html": [
       "<div>\n",
       "<style scoped>\n",
       "    .dataframe tbody tr th:only-of-type {\n",
       "        vertical-align: middle;\n",
       "    }\n",
       "\n",
       "    .dataframe tbody tr th {\n",
       "        vertical-align: top;\n",
       "    }\n",
       "\n",
       "    .dataframe thead th {\n",
       "        text-align: right;\n",
       "    }\n",
       "</style>\n",
       "<table border=\"1\" class=\"dataframe\">\n",
       "  <thead>\n",
       "    <tr style=\"text-align: right;\">\n",
       "      <th></th>\n",
       "      <th>text</th>\n",
       "      <th>airline</th>\n",
       "      <th>airline_sentiment</th>\n",
       "    </tr>\n",
       "  </thead>\n",
       "  <tbody>\n",
       "    <tr>\n",
       "      <th>0</th>\n",
       "      <td>@VirginAmerica What @dhepburn said.</td>\n",
       "      <td>Virgin America</td>\n",
       "      <td>neutral</td>\n",
       "    </tr>\n",
       "    <tr>\n",
       "      <th>3</th>\n",
       "      <td>@VirginAmerica it's really aggressive to blast...</td>\n",
       "      <td>Virgin America</td>\n",
       "      <td>negative</td>\n",
       "    </tr>\n",
       "    <tr>\n",
       "      <th>4</th>\n",
       "      <td>@VirginAmerica and it's a really big bad thing...</td>\n",
       "      <td>Virgin America</td>\n",
       "      <td>negative</td>\n",
       "    </tr>\n",
       "    <tr>\n",
       "      <th>5</th>\n",
       "      <td>@VirginAmerica seriously would pay $30 a fligh...</td>\n",
       "      <td>Virgin America</td>\n",
       "      <td>negative</td>\n",
       "    </tr>\n",
       "    <tr>\n",
       "      <th>9</th>\n",
       "      <td>@VirginAmerica it was amazing, and arrived an ...</td>\n",
       "      <td>Virgin America</td>\n",
       "      <td>positive</td>\n",
       "    </tr>\n",
       "  </tbody>\n",
       "</table>\n",
       "</div>"
      ],
      "text/plain": [
       "                                                text         airline  \\\n",
       "0                @VirginAmerica What @dhepburn said.  Virgin America   \n",
       "3  @VirginAmerica it's really aggressive to blast...  Virgin America   \n",
       "4  @VirginAmerica and it's a really big bad thing...  Virgin America   \n",
       "5  @VirginAmerica seriously would pay $30 a fligh...  Virgin America   \n",
       "9  @VirginAmerica it was amazing, and arrived an ...  Virgin America   \n",
       "\n",
       "  airline_sentiment  \n",
       "0           neutral  \n",
       "3          negative  \n",
       "4          negative  \n",
       "5          negative  \n",
       "9          positive  "
      ]
     },
     "execution_count": 30,
     "metadata": {},
     "output_type": "execute_result"
    }
   ],
   "source": [
    "airlines_df.head()"
   ]
  },
  {
   "cell_type": "code",
   "execution_count": 31,
   "metadata": {},
   "outputs": [
    {
     "data": {
      "image/png": "[encoded data removed]",
      "text/plain": [
       "<Figure size 1296x720 with 1 Axes>"
      ]
     },
     "metadata": {
      "needs_background": "light"
     },
     "output_type": "display_data"
    }
   ],
   "source": [
    "airline_groups = airlines_df.groupby(\"airline\")[\"airline_sentiment\"]\n",
    "_ = airline_groups.value_counts().plot(kind=\"bar\", color=\"red\", figsize=(18,10), ylabel=\"number of tweets\")"
   ]
  },
  {
   "cell_type": "markdown",
   "metadata": {},
   "source": [
    "We can see, that the data is very unequally distributed again. In order to avoid bias toward a certain sentiment class, airline (the airline twitter handles are part of the tweet) or the interaction between the two, we randomly sample the data to be of equal size in each of the categories plotted above."
   ]
  },
  {
   "cell_type": "code",
   "execution_count": 32,
   "metadata": {},
   "outputs": [],
   "source": [
    "clean_airlines_df = pd.DataFrame(columns=[\"airline_sentiment\",\"airline\",\"text\"])\n",
    "min_count = airline_groups.value_counts().min()"
   ]
  },
  {
   "cell_type": "code",
   "execution_count": 33,
   "metadata": {},
   "outputs": [],
   "source": [
    "clean_airlines_df = airlines_df.groupby([\"airline\", \"airline_sentiment\"]).sample(min_count)"
   ]
  },
  {
   "cell_type": "code",
   "execution_count": 34,
   "metadata": {},
   "outputs": [
    {
     "data": {
      "image/png": "[encoded data removed]",
      "text/plain": [
       "<Figure size 1296x720 with 1 Axes>"
      ]
     },
     "metadata": {
      "needs_background": "light"
     },
     "output_type": "display_data"
    }
   ],
   "source": [
    "_ = clean_airlines_df.groupby(\"airline\")[\"airline_sentiment\"].value_counts().plot(kind=\"bar\", color=\"red\", figsize=(18,10), ylabel=\"number of tweets\")"
   ]
  },
  {
   "cell_type": "markdown",
   "metadata": {},
   "source": [
    "As desired, now all category interaction pairs are now balanced out."
   ]
  },
  {
   "cell_type": "markdown",
   "metadata": {},
   "source": [
    "#### Vectorize Data"
   ]
  },
  {
   "cell_type": "code",
   "execution_count": 35,
   "metadata": {},
   "outputs": [],
   "source": [
    "count_vectorizer = CountVectorizer(analyzer=\"char\")"
   ]
  },
  {
   "cell_type": "code",
   "execution_count": 36,
   "metadata": {},
   "outputs": [],
   "source": [
    "X = count_vectorizer.fit_transform(clean_airlines_df[\"text\"])\n",
    "Y = pd.get_dummies(clean_airlines_df[\"airline_sentiment\"]).to_numpy()"
   ]
  },
  {
   "cell_type": "code",
   "execution_count": 37,
   "metadata": {},
   "outputs": [],
   "source": [
    "X_train, X_test, Y_train, Y_test = train_test_split(X, Y, shuffle=True)"
   ]
  },
  {
   "cell_type": "code",
   "execution_count": 38,
   "metadata": {
    "scrolled": true
   },
   "outputs": [
    {
     "name": "stdout",
     "output_type": "stream",
     "text": [
      "Data Shapes: (1242, 126) (1242, 3) (414, 126) (414, 3)\n"
     ]
    }
   ],
   "source": [
    "print(\"Data Shapes:\", X_train.shape, Y_train.shape, X_test.shape, Y_test.shape)"
   ]
  },
  {
   "cell_type": "markdown",
   "metadata": {},
   "source": [
    "### Run Training"
   ]
  },
  {
   "cell_type": "code",
   "execution_count": 39,
   "metadata": {},
   "outputs": [],
   "source": [
    "multi_nn = MultiClassNeuralNetwork(hidden_size=50)"
   ]
  },
  {
   "cell_type": "code",
   "execution_count": 40,
   "metadata": {},
   "outputs": [
    {
     "name": "stdout",
     "output_type": "stream",
     "text": [
      "Epoch: 1/2000\t Loss: 4.424354944017567\n",
      "Epoch: 200/2000\t Loss: 0.8322250229029656\n",
      "Epoch: 400/2000\t Loss: 0.6779444912079343\n",
      "Epoch: 600/2000\t Loss: 0.5891936427974245\n",
      "Epoch: 800/2000\t Loss: 0.5233816832276198\n",
      "Epoch: 1000/2000\t Loss: 0.48252541678758587\n",
      "Epoch: 1200/2000\t Loss: 0.45139723987570485\n",
      "Epoch: 1400/2000\t Loss: 0.44775907419721084\n",
      "Epoch: 1600/2000\t Loss: 0.41956675318307013\n",
      "Epoch: 1800/2000\t Loss: 0.41842781382314587\n",
      "Epoch: 2000/2000\t Loss: 0.40669725489145403\n",
      "Done 🥳. Training took 19.823203086853027 seconds.\n"
     ]
    }
   ],
   "source": [
    "multi_nn.train(X_train, Y_train, n_epochs=2000, print_every=200)"
   ]
  },
  {
   "cell_type": "markdown",
   "metadata": {},
   "source": [
    "### Test the Model"
   ]
  },
  {
   "cell_type": "code",
   "execution_count": 41,
   "metadata": {},
   "outputs": [
    {
     "name": "stdout",
     "output_type": "stream",
     "text": [
      "The accuracy on the training set is 82.93075684380032 %\n"
     ]
    }
   ],
   "source": [
    "accuracy_train = multi_nn.test(X_train, Y_train)\n",
    "print(f\"The accuracy on the training set is {accuracy_train * 100} %\")"
   ]
  },
  {
   "cell_type": "code",
   "execution_count": 42,
   "metadata": {},
   "outputs": [
    {
     "name": "stdout",
     "output_type": "stream",
     "text": [
      "The accuracy on the test set is 59.17874396135265 %\n"
     ]
    }
   ],
   "source": [
    "accuracy_test = multi_nn.test(X_test, Y_test)\n",
    "print(f\"The accuracy on the test set is {accuracy_test * 100} %\")"
   ]
  },
  {
   "cell_type": "markdown",
   "metadata": {},
   "source": [
    "This task is apparently too hard for our small dataset and very simple features (just character counts) as well as the simple fully-connected architecture. For example, pre-trained word embeddings might yield better performance here. Still, on the test set, we are almost twice as good as guessing which would be a chance of 33.3 %."
   ]
  }
 ],
 "metadata": {
  "kernelspec": {
   "display_name": "Python 3",
   "language": "python",
   "name": "python3"
  },
  "language_info": {
   "codemirror_mode": {
    "name": "ipython",
    "version": 3
   },
   "file_extension": ".py",
   "mimetype": "text/x-python",
   "name": "python",
   "nbconvert_exporter": "python",
   "pygments_lexer": "ipython3",
   "version": "3.8.5"
  }
 },
 "nbformat": 4,
 "nbformat_minor": 4
}
